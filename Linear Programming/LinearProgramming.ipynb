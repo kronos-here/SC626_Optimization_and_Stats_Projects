{
  "nbformat": 4,
  "nbformat_minor": 0,
  "metadata": {
    "colab": {
      "provenance": []
    },
    "kernelspec": {
      "name": "python3",
      "display_name": "Python 3"
    },
    "language_info": {
      "name": "python"
    }
  },
  "cells": [
    {
      "cell_type": "markdown",
      "source": [
        "**SC 626 Systems and Control Laboratory (Part 2).**\n",
        "\n",
        "---\n",
        "\n",
        "\n",
        "---\n",
        "\n",
        "\n",
        "\n",
        "Session 1 (Date: 23-03-2022 | Time: 2pm - 5pm)\n",
        "\n",
        "*Name*: Sayan Ray\n",
        "\n",
        "*Roll No.*: 213230011"
      ],
      "metadata": {
        "id": "NmCFlmowzPte"
      }
    },
    {
      "cell_type": "markdown",
      "source": [
        "Importing and installing all the required packages."
      ],
      "metadata": {
        "id": "hsWaVK_BzJFO"
      }
    },
    {
      "cell_type": "code",
      "source": [
        "!pip install -U \"scipy==1.4.*\""
      ],
      "metadata": {
        "colab": {
          "base_uri": "https://localhost:8080/"
        },
        "id": "cbirFT1qy4Os",
        "outputId": "7ab87688-691c-4798-b134-3b0a3c79a961"
      },
      "execution_count": null,
      "outputs": [
        {
          "output_type": "stream",
          "name": "stdout",
          "text": [
            "Requirement already satisfied: scipy==1.4.* in /usr/local/lib/python3.7/dist-packages (1.4.1)\n",
            "Requirement already satisfied: numpy>=1.13.3 in /usr/local/lib/python3.7/dist-packages (from scipy==1.4.*) (1.21.5)\n"
          ]
        }
      ]
    },
    {
      "cell_type": "code",
      "source": [
        "from scipy.optimize import linprog"
      ],
      "metadata": {
        "id": "Mczdft9o0iMB"
      },
      "execution_count": null,
      "outputs": []
    },
    {
      "cell_type": "markdown",
      "source": [
        "#Prameters to the LP problem"
      ],
      "metadata": {
        "id": "u3UThQDxy36p"
      }
    },
    {
      "cell_type": "code",
      "source": [
        "# There are 4 production plants and total 4 destinations it can sip PVC products to.\n",
        "# So there can be 16 variables each indicating the amout of shipment transferred  drom one plat to each destination\n",
        "#So the objective function can be shown as\n",
        "obj = [200, 300, 100, 600, 400, 350, 150, 650, 300, 250, 150, 600, 500, 400, 200, 700]\n",
        "\n",
        "# Since production is 405 units way more than demand of 375 units the production units can be lesser than full capacity\n",
        "\n",
        "# So those equations are going to be inequality constraints\n",
        "# LHS\n",
        "lhs_ineq = [[ 1,  1, 1, 1, 0, 0, 0, 0, 0, 0, 0, 0, 0, 0, 0, 0],\n",
        "            [ 0, 0, 0, 0, 1,  1, 1, 1, 0, 0, 0, 0, 0, 0, 0, 0],\n",
        "            [ 0, 0, 0, 0, 0, 0, 0, 0, 1,  1, 1, 1, 0, 0, 0, 0],\n",
        "            [ 0, 0, 0, 0, 0, 0, 0, 0, 0, 0, 0, 0, 1,  1, 1, 1]]\n",
        "\n",
        "rhs_ineq = [110, 75, 95, 125]\n",
        "# RHS\n",
        "\n",
        "#But, the demand should never fall short so for optimizing we take them as equality constraints\n",
        "#LHS\n",
        "lhs_eq = [[ 1, 0, 0, 0, 1, 0, 0, 0, 1, 0, 0, 0, 1, 0, 0, 0],\n",
        "          [ 0, 1, 0, 0, 0, 1, 0, 0, 0, 1, 0, 0, 0, 1, 0, 0],\n",
        "          [ 0, 0, 1, 0, 0, 0, 1, 0, 0, 0, 1, 0, 0, 0, 1, 0],\n",
        "          [ 0, 0, 0, 1, 0, 0, 0, 1, 0, 0, 0, 1, 0, 0, 0, 1]]\n",
        "#RHS\n",
        "rhs_eq = [200, 90, 40, 45]"
      ],
      "metadata": {
        "id": "XmzANFTfY6cd"
      },
      "execution_count": null,
      "outputs": []
    },
    {
      "cell_type": "markdown",
      "source": [
        "Bounds of all the variables to be set from 0 to inf."
      ],
      "metadata": {
        "id": "arzBKAg2dGPA"
      }
    },
    {
      "cell_type": "code",
      "source": [
        "# Each variable has to be positive to get a realistic result\n",
        "bnd = [(0, float(\"inf\")), (0, float(\"inf\")), (0, float(\"inf\")), (0, float(\"inf\")), (0, float(\"inf\")), (0, float(\"inf\")), (0, float(\"inf\")), (0, float(\"inf\")),\n",
        "       (0, float(\"inf\")), (0, float(\"inf\")), (0, float(\"inf\")), (0, float(\"inf\")), (0, float(\"inf\")), (0, float(\"inf\")), (0, float(\"inf\")), (0, float(\"inf\"))]  # Bounds of y"
      ],
      "metadata": {
        "id": "c50ZOD7-Y6TD"
      },
      "execution_count": null,
      "outputs": []
    },
    {
      "cell_type": "markdown",
      "source": [
        "#The output or resultant of this optimization problem"
      ],
      "metadata": {
        "id": "QNXs12jXdMiR"
      }
    },
    {
      "cell_type": "code",
      "source": [
        "# Solving\n",
        "opt = linprog(c=obj, A_ub=lhs_ineq, b_ub=rhs_ineq, A_eq=lhs_eq, b_eq=rhs_eq, bounds=bnd, method=\"revised simplex\")\n",
        "\n",
        "# Output\n",
        "opt"
      ],
      "metadata": {
        "colab": {
          "base_uri": "https://localhost:8080/"
        },
        "id": "SO_zRYq9Y6KY",
        "outputId": "1042df18-3cb1-4277-b716-aca11fc6fd9d"
      },
      "execution_count": null,
      "outputs": [
        {
          "output_type": "execute_result",
          "data": {
            "text/plain": [
              "     con: array([0., 0., 0., 0.])\n",
              "     fun: 120000.0\n",
              " message: 'Optimization terminated successfully.'\n",
              "     nit: 14\n",
              "   slack: array([ 0.,  0.,  0., 30.])\n",
              "  status: 0\n",
              " success: True\n",
              "       x: array([110.,   0.,   0.,   0.,   0.,   0.,  30.,  45.,  90.,   5.,   0.,\n",
              "         0.,   0.,  85.,  10.,   0.])"
            ]
          },
          "metadata": {},
          "execution_count": 78
        }
      ]
    },
    {
      "cell_type": "markdown",
      "source": [
        "Conclusion: There is a possibility to minimize the cost and its 120000.\n",
        "And the corrosponding production units sent are:\n",
        "\n",
        "110 units - From P1 to D1\n",
        "\n",
        "30 units - From P2 to D3\n",
        "\n",
        "45 units - From P2 to D4\n",
        "\n",
        "90 units - From P3 to D1\n",
        "\n",
        "5 units - From P3 to D2\n",
        "\n",
        "85 units - From P4 to D2\n",
        "\n",
        "10 units - From P4 to D3\n",
        "\n"
      ],
      "metadata": {
        "id": "ib-UmQ9ie3AI"
      }
    },
    {
      "cell_type": "markdown",
      "source": [
        "\n",
        "\n",
        "---\n",
        "\n"
      ],
      "metadata": {
        "id": "NMwzh8ywZIBw"
      }
    }
  ]
}