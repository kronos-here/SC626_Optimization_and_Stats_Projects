{
  "nbformat": 4,
  "nbformat_minor": 0,
  "metadata": {
    "colab": {
      "provenance": [],
      "collapsed_sections": [
        "7at_bJivRDap"
      ]
    },
    "kernelspec": {
      "name": "python3",
      "display_name": "Python 3"
    },
    "language_info": {
      "name": "python"
    }
  },
  "cells": [
    {
      "cell_type": "markdown",
      "source": [
        "**SC 626 Systems and Control Laboratory (Part 3).**\n",
        "\n",
        "---\n",
        "\n",
        "\n",
        "---\n",
        "\n",
        "\n",
        "\n",
        "Session 3 (Date: 06-04-2022 | Time: 2pm - 5pm)\n",
        "\n",
        "*Name*: Sayan Ray\n",
        "\n",
        "*Roll No.*: 213230011"
      ],
      "metadata": {
        "id": "OzQsc58NAl1o"
      }
    },
    {
      "cell_type": "markdown",
      "source": [
        "# So we have been given the connected graph:\n",
        "\n",
        "![pic.png](data:image/png;base64,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)"
      ],
      "metadata": {
        "id": "7at_bJivRDap"
      }
    },
    {
      "cell_type": "markdown",
      "source": [
        "# What we need is the minimum distance traveresed using Simulated Annealing and Metropolis Hastings.\n",
        "\n",
        "So taking the paths as states, example:\n",
        "\n",
        "1-2-3-4-1 (assuming we started from node 1) is on e state and so 1-3-2-4-1 can be another."
      ],
      "metadata": {
        "id": "r8zSMUjYRW-8"
      }
    },
    {
      "cell_type": "markdown",
      "source": [
        "# Code\n",
        "\n",
        "\n",
        "---\n",
        "\n"
      ],
      "metadata": {
        "id": "H68tbxHcbiv6"
      }
    },
    {
      "cell_type": "markdown",
      "source": [
        "Importing all the packages needed."
      ],
      "metadata": {
        "id": "GoBMGY3XSrGN"
      }
    },
    {
      "cell_type": "code",
      "source": [
        "import numpy as np"
      ],
      "metadata": {
        "id": "pbwum6YGSuyC"
      },
      "execution_count": null,
      "outputs": []
    },
    {
      "cell_type": "markdown",
      "source": [
        "Initializing the variables."
      ],
      "metadata": {
        "id": "LT0td3tbSdGR"
      }
    },
    {
      "cell_type": "code",
      "source": [
        "# I am declaring them global so as to preseve the changes done to these variables in the methods\n",
        "global Tx_mat,s,c,trial,T,alpha\n",
        "\n",
        "# The transition probability matrix\n",
        "Tx_mat = [[0,5,2,3],[5,0,3,4],[2,3,0,4],[3,4,4,0]]\n",
        "Tx_mat = np.array(Tx_mat)\n",
        "print (\"The transition probability matrix\")\n",
        "print(Tx_mat)"
      ],
      "metadata": {
        "colab": {
          "base_uri": "https://localhost:8080/"
        },
        "id": "Z5HWqvXYVL89",
        "outputId": "37a22d27-1e73-4c5b-a359-ce8f751fa09b"
      },
      "execution_count": null,
      "outputs": [
        {
          "output_type": "stream",
          "name": "stdout",
          "text": [
            "The transition probability matrix\n",
            "[[0 5 2 3]\n",
            " [5 0 3 4]\n",
            " [2 3 0 4]\n",
            " [3 4 4 0]]\n"
          ]
        }
      ]
    },
    {
      "cell_type": "markdown",
      "source": [
        "Now we need to define a cost function so that we can call whenver we want."
      ],
      "metadata": {
        "id": "iCdusFQvbWV6"
      }
    },
    {
      "cell_type": "code",
      "source": [
        "def dist(s):\n",
        "  # S we compute the total distance traversed by calculationg total ditance traversed if transition is in between adjacent elements\n",
        "  total = 0\n",
        "  for i in range(len(s)-1):\n",
        "    row = s[i]\n",
        "    col = s[i+1]\n",
        "    total += Tx_mat[row,col]\n",
        "  total += Tx_mat[ s[len(s)-1] , s[0] ]\n",
        "  return total"
      ],
      "metadata": {
        "id": "-HTN8a-7bdzO"
      },
      "execution_count": null,
      "outputs": []
    },
    {
      "cell_type": "markdown",
      "source": [
        "We also need a a function to swap places so as to create neighbours."
      ],
      "metadata": {
        "id": "iskIFQZicVoK"
      }
    },
    {
      "cell_type": "code",
      "source": [
        "def swap(s, m, n):\n",
        "  i = min(m, n)\n",
        "  j = max(m, n)\n",
        "  s1 = s.copy()\n",
        "  while i < j:\n",
        "    t = s1[j]\n",
        "    s1[j] = s1[i]\n",
        "    s1[i] = t\n",
        "    i += 1\n",
        "    j -= 1\n",
        "  return s1"
      ],
      "metadata": {
        "id": "7G6Mg7sDcVES"
      },
      "execution_count": null,
      "outputs": []
    },
    {
      "cell_type": "markdown",
      "source": [
        "The main driving code"
      ],
      "metadata": {
        "id": "ZOcrX89PeM7S"
      }
    },
    {
      "cell_type": "code",
      "source": [
        "# Declaring all the variables and contsnts we need in the code here itself\n",
        "s = [0,1,2,3]\n",
        "trial = 1\n",
        "T = 100\n",
        "# cooling rate of T\n",
        "alpha = 0.9\n",
        "\n",
        "# Taking an initial cost value\n",
        "c = dist(s)\n",
        "\n",
        "while trial <= 1000:\n",
        "  # Now since we want to try different paths we will change by swapping elements between two indexes m and n\n",
        "  while True:\n",
        "    n = np.random.randint(0, 4)\n",
        "    m = np.random.randint(0, 4)\n",
        "    if n != m:\n",
        "      break\n",
        "  new_seq = swap(s, m, n)\n",
        "  new_cost = dist(new_seq)\n",
        "\n",
        "  if new_cost < c:\n",
        "    # We difinitely shift to next point if there is smaller total distance (cost)\n",
        "    s = new_seq\n",
        "    c = new_cost\n",
        "  else:\n",
        "    # Else We shift to next point probabilistically\n",
        "    if np.random.rand() < np.exp(-(new_cost - c)/T):\n",
        "      s = new_seq\n",
        "      c = new_cost\n",
        "  T = alpha*T\n",
        "  trial += 1\n",
        "\n",
        "# Now we should get the best value\n",
        "print (\"Optimal Path :\")\n",
        "final = [x+1 for x in s]\n",
        "print (final)\n",
        "print (\"Distance :\"+str(c))\n"
      ],
      "metadata": {
        "colab": {
          "base_uri": "https://localhost:8080/"
        },
        "id": "X1XucmfAOKNq",
        "outputId": "e28bd643-e9ab-4ef9-8e05-c1feb189772d"
      },
      "execution_count": null,
      "outputs": [
        {
          "output_type": "stream",
          "name": "stdout",
          "text": [
            "Optimal Path :\n",
            "[2, 4, 1, 3]\n",
            "Distance :12\n"
          ]
        }
      ]
    }
  ]
}