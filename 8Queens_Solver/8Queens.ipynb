{
  "nbformat": 4,
  "nbformat_minor": 0,
  "metadata": {
    "colab": {
      "provenance": []
    },
    "kernelspec": {
      "name": "python3",
      "display_name": "Python 3"
    },
    "language_info": {
      "name": "python"
    }
  },
  "cells": [
    {
      "cell_type": "markdown",
      "source": [
        "# What we need are the configurations of arranging 8 queens in 8 X 8 chessboard using Simulated Annealing and Gibbs Sampling.\n",
        "\n",
        "To minimize the computational complexity We can assime that a queen can travel in rows only, and each queen wil be assigned a particular row.\n",
        "\n",
        "In the begining the Queens will start at random spots to their allocated rows.\n",
        "\n",
        "So taking the coloumn positions of each queen as states, example:\n",
        "\n",
        "![chess.png](data:image/png;base64,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)\n",
        "\n",
        "Will be stated as:\n",
        "[ 6,2,7,1,3,5,8,4 ]\n",
        "\n",
        "(Image is taken from lichess.com)\n"
      ],
      "metadata": {
        "id": "r8zSMUjYRW-8"
      }
    },
    {
      "cell_type": "markdown",
      "source": [
        "# Code\n",
        "\n",
        "\n",
        "---\n",
        "\n"
      ],
      "metadata": {
        "id": "H68tbxHcbiv6"
      }
    },
    {
      "cell_type": "markdown",
      "source": [
        "Importing all the packages needed."
      ],
      "metadata": {
        "id": "GoBMGY3XSrGN"
      }
    },
    {
      "cell_type": "code",
      "source": [
        "import numpy as np\n",
        "import math as mt\n",
        "\n",
        "# this package is just for clearing the screen\n",
        "from os import system\n",
        "\n",
        "# Due to some runtime issues I have declared this list of no attack configurations here as a global variable\n",
        "global safe_config\n",
        "safe_config = []"
      ],
      "metadata": {
        "id": "pbwum6YGSuyC"
      },
      "execution_count": null,
      "outputs": []
    },
    {
      "cell_type": "markdown",
      "source": [
        "This display method displays the positions dictated by state provided to it in a 8X8 chessboard like display."
      ],
      "metadata": {
        "id": "fbYLDuEEQs_H"
      }
    },
    {
      "cell_type": "code",
      "source": [
        "def display(s):\n",
        "  # This is simply to represent the positions on the chessboard\n",
        "  # We get the state s which is a set of the column positions of each queen\n",
        "\n",
        "  # Blank Chessboard\n",
        "  chessboard = np.empty((8, 8), str)\n",
        "\n",
        "  # If the position is encountered then we print \"1\" else \"_\"\n",
        "  for i in range(8):\n",
        "    for j in range(8):\n",
        "      if j == s[i]:\n",
        "        chessboard[i][j] = \"1\"\n",
        "      else:\n",
        "        chessboard[i][j] = \"_\"\n",
        "\n",
        "  print()\n",
        "  # This helps to display in a relatable form\n",
        "  print (\"   1 2 3 4 5 6 7 8\")\n",
        "  print (\" __________________\")\n",
        "  for i in range(8):\n",
        "    print(str(i),end=\"| \")\n",
        "    for j in range(8):\n",
        "      print(chessboard[i][j],end=\" \")\n",
        "\n",
        "    print()\n",
        "\n"
      ],
      "metadata": {
        "id": "Zo35vxKiE0v5"
      },
      "execution_count": null,
      "outputs": []
    },
    {
      "cell_type": "markdown",
      "source": [
        "Now we need to define a cost function so that we can call whenver we want. The cost here will simply be the number of conflicts possible, (designed such that there is no recounting)"
      ],
      "metadata": {
        "id": "iCdusFQvbWV6"
      }
    },
    {
      "cell_type": "code",
      "source": [
        "def danger(s):\n",
        "  # This method counts the number of clashes possible overall\n",
        "  # also we need to make sure we are not computing for the same queen by using \"i!=j\"\n",
        "  total = 0\n",
        "\n",
        "  for i in range(8):\n",
        "    for j in range(i+1,8):\n",
        "      # Occurances in same coloumn\n",
        "      if (s[i] == s[j]) and (i!=j) :\n",
        "        total+=1\n",
        "\n",
        "      # Diagonal threats\n",
        "      if (abs(s[i]-s[j]) == abs(i-j)) and (i!=j):\n",
        "        total+=1\n",
        "\n",
        "  return total"
      ],
      "metadata": {
        "id": "-HTN8a-7bdzO"
      },
      "execution_count": null,
      "outputs": []
    },
    {
      "cell_type": "markdown",
      "source": [
        "This method is used to find the next intermediate state using Gibbs sampling."
      ],
      "metadata": {
        "id": "Q0ReERnoQViX"
      }
    },
    {
      "cell_type": "code",
      "source": [
        "def gibbs(s,j):\n",
        "\n",
        "  # Using a copy of the array\n",
        "  s1 = s\n",
        "\n",
        "  # The distribution is formed using the total attacks faced by the queen at each spot in the row\n",
        "\n",
        "  # Preparing a blank distribution\n",
        "  dist = np.array([0,0,0,0,0,0,0,0])\n",
        "\n",
        "  # The number of threats the queen faces in its current position\n",
        "  d = danger(s)\n",
        "\n",
        "  # Now computing the number of threats faced in each coloumn position and storing that as a distribution in dist\n",
        "  for i in range(8):\n",
        "    s1[j] = i\n",
        "    dist[i] = danger(s1)\n",
        "\n",
        "  # Here is the main part of this sampling\n",
        "\n",
        "  # If the number of threats faced by the queen is more that it current faces, then its not probable to move to that coloumn\n",
        "  # If found then the pmf is set to 0 for thta coloumn\n",
        "\n",
        "  # If the number of threats faced by the queen is less that it current faces, then its more probable to move to that coloumn\n",
        "  # Lesser the threats more its preffered so that is plotted as a non zero pmf in dist\n",
        "\n",
        "  # Just like say for a 2 variable problem for onw fixed variable a random sample is taken from the resultant pmf in Gibbs similarly\n",
        "  # For a particular combination of other 7 queens the danger pfm curve is used here\n",
        "  for i in range(8):\n",
        "    if (dist[i]>=d):\n",
        "      # More danger so not considered\n",
        "      dist[i] = 0\n",
        "    else:\n",
        "      # Less danger so considered\n",
        "      dist[i] = d - dist[i]\n",
        "\n",
        "  # Since its a probability distribution we need to normalize it\n",
        "  norm_dist = dist / np.sqrt(np.sum(dist**2))\n",
        "\n",
        "  # Randomly selecting an index\n",
        "  nxt_ind = np.random.randint(0, 8)\n",
        "\n",
        "  # We keep re-selecting in case we select a point not on pmf an since we can move a queen anywhere with equal probabilty I uesd randint()\n",
        "  while (norm_dist[nxt_ind] == 0):\n",
        "    nxt_ind = np.random.randint(0, 8)\n",
        "\n",
        "  # Since now we have a random sample from the pmf I update that and return the new configuration\n",
        "  s1[j]  = nxt_ind\n",
        "  return s1"
      ],
      "metadata": {
        "id": "mgL1lXQp_zza"
      },
      "execution_count": null,
      "outputs": []
    },
    {
      "cell_type": "markdown",
      "source": [
        "This method fascilitates the allotment of a new state based on Gibbs sampling"
      ],
      "metadata": {
        "id": "m1vfVwA-QF_v"
      }
    },
    {
      "cell_type": "code",
      "source": [
        "def newState(sn):\n",
        "\n",
        "  # For every simulated annealing iteration the new state is chosen by the Gibbs sampling MCMC algorithm\n",
        "  sns = sn\n",
        "\n",
        "  # p(x_0|x_1)   -->   p(x'_0|x_1)\n",
        "  # Every ith iteration I am using the i-1 queen's updated positions\n",
        "  for i in range(8):\n",
        "    intermediate_state = gibbs(sns,i)\n",
        "    sns = intermediate_state\n",
        "\n",
        "  # Returning the final state\n",
        "  return sns"
      ],
      "metadata": {
        "id": "7G6Mg7sDcVES"
      },
      "execution_count": null,
      "outputs": []
    },
    {
      "cell_type": "markdown",
      "source": [
        "This method simply helps store the no conflict configurations encountered during the process."
      ],
      "metadata": {
        "id": "mvBPpE9bPWw3"
      }
    },
    {
      "cell_type": "code",
      "source": [
        "def geter (st):\n",
        "  # This is used to store the configurations of no conflict\n",
        "  # I had to use another array to extract or else the address was getting used\n",
        "  arr = []\n",
        "\n",
        "  # Adding 1 since the positions are array indexes\n",
        "  for i in range(8):\n",
        "    arr.append(st[i]+1)\n",
        "\n",
        "  # Storing the config in bzz array\n",
        "  safe_config.append(arr)"
      ],
      "metadata": {
        "id": "ep7Vj3i2uDWh"
      },
      "execution_count": null,
      "outputs": []
    },
    {
      "cell_type": "markdown",
      "source": [
        "## Start of the driver code\n",
        "\n",
        "(Variable declarations and initializations)"
      ],
      "metadata": {
        "id": "trwoCtefPMrW"
      }
    },
    {
      "cell_type": "code",
      "source": [
        "# Declaring all the variables and contsnts we need in the code here itself\n",
        "state = [0,0,0,0,0,0,0,0]\n",
        "new_state = [0,0,0,0,0,0,0,0]\n",
        "cost = 0\n",
        "new_cost = 0\n",
        "\n",
        "# The initial distribution of the queens on the chessboard randomly assigned.\n",
        "for i in range(8):\n",
        "  state[i] = np.random.randint(0, 8)\n",
        "\n",
        "print (\"The initial Placement\")\n",
        "print ([x+1 for x in state])\n",
        "display(state)"
      ],
      "metadata": {
        "colab": {
          "base_uri": "https://localhost:8080/"
        },
        "id": "bzJvs6_Yo4uO",
        "outputId": "ae2c35e2-1300-4bbc-a447-3b4c5c761206"
      },
      "execution_count": null,
      "outputs": [
        {
          "output_type": "stream",
          "name": "stdout",
          "text": [
            "The initial Placement\n",
            "[4, 4, 8, 1, 1, 8, 4, 1]\n",
            "\n",
            "   1 2 3 4 5 6 7 8\n",
            " __________________\n",
            "0| _ _ _ 1 _ _ _ _ \n",
            "1| _ _ _ 1 _ _ _ _ \n",
            "2| _ _ _ _ _ _ _ 1 \n",
            "3| 1 _ _ _ _ _ _ _ \n",
            "4| 1 _ _ _ _ _ _ _ \n",
            "5| _ _ _ _ _ _ _ 1 \n",
            "6| _ _ _ 1 _ _ _ _ \n",
            "7| 1 _ _ _ _ _ _ _ \n"
          ]
        }
      ]
    },
    {
      "cell_type": "markdown",
      "source": [
        "## The main driving code"
      ],
      "metadata": {
        "id": "ZOcrX89PeM7S"
      }
    },
    {
      "cell_type": "code",
      "source": [
        "# The variables for recently discovered minima\n",
        "store_min = np.array([0,0,0,0,0,0,0,0])\n",
        "min_cost = danger(state)\n",
        "\n",
        "# count is used to stre the number of times we get no conflict configurations\n",
        "count = 0\n",
        "\n",
        "# Variables for simulated annealing\n",
        "trial = 1\n",
        "T = 1000\n",
        "\n",
        "# cooling rate of T\n",
        "alpha = 0.9\n",
        "\n",
        "\n",
        "# Taking an initial cost value\n",
        "cost = danger(state)\n",
        "\n",
        "while trial <= 10000:\n",
        "  # Now since we want to try different paths we will change by swapping elements between two indexes m and n\n",
        "  new_state = newState(state)\n",
        "  new_cost = danger(new_state)\n",
        "\n",
        "  # This portion of the code is just to capture and store the no attacks configurations found in the process\n",
        "  # It has no effect on the process variables or course\n",
        "  if new_cost == 0:\n",
        "    count+=1\n",
        "    geter(new_state)\n",
        "\n",
        "  if new_cost <= cost:\n",
        "    # We difinitely shift to next point if there is smaller total distance (cost)\n",
        "    state = new_state\n",
        "    cost = new_cost\n",
        "\n",
        "    # All is good we found a smaller value but is it the global minima?\n",
        "    if new_cost<= min_cost:\n",
        "      min_cost = new_cost\n",
        "      for i in range(8):\n",
        "        store_min[i] = new_state[i]\n",
        "  else:\n",
        "    # Else We shift to next point probabilistically\n",
        "    if np.random.randn() < mt.exp(-(new_cost - cost)/T):\n",
        "      if(cost == 0):\n",
        "        state = new_state\n",
        "        cost = new_cost\n",
        "\n",
        "  T = alpha*T\n",
        "  trial += 1\n",
        "\n",
        "# Now the simple printing part\n",
        "\n",
        "system('clear')\n",
        "print()\n",
        "print(\"Final Configuration :\")\n",
        "print (\"Final coloumn configuration : \"+str([x+1 for x in store_min]))\n",
        "print()\n",
        "print (\"Minimum Cost : \"+str(min_cost))\n",
        "print()\n",
        "display(store_min)\n",
        "\n",
        "\n",
        "\n",
        "\n"
      ],
      "metadata": {
        "colab": {
          "base_uri": "https://localhost:8080/"
        },
        "id": "X1XucmfAOKNq",
        "outputId": "75a575e4-65d3-4d7b-e8d8-e8f6232c21f7"
      },
      "execution_count": null,
      "outputs": [
        {
          "output_type": "stream",
          "name": "stderr",
          "text": [
            "/usr/local/lib/python3.7/dist-packages/ipykernel_launcher.py:38: RuntimeWarning: invalid value encountered in true_divide\n"
          ]
        },
        {
          "output_type": "stream",
          "name": "stdout",
          "text": [
            "\n",
            "Final Configuration :\n",
            "Final coloumn configuration : [7, 3, 8, 2, 5, 1, 6, 4]\n",
            "\n",
            "Minimum Cost : 0\n",
            "\n",
            "\n",
            "   1 2 3 4 5 6 7 8\n",
            " __________________\n",
            "0| _ _ _ _ _ _ 1 _ \n",
            "1| _ _ 1 _ _ _ _ _ \n",
            "2| _ _ _ _ _ _ _ 1 \n",
            "3| _ 1 _ _ _ _ _ _ \n",
            "4| _ _ _ _ 1 _ _ _ \n",
            "5| 1 _ _ _ _ _ _ _ \n",
            "6| _ _ _ _ _ 1 _ _ \n",
            "7| _ _ _ 1 _ _ _ _ \n"
          ]
        }
      ]
    },
    {
      "cell_type": "markdown",
      "source": [
        "## Now for the number of such solutions or minimas found during this process.\n",
        "(Varies each time the program is run)"
      ],
      "metadata": {
        "id": "CvKRENknO3C_"
      }
    },
    {
      "cell_type": "code",
      "source": [
        "print(\"Total number of No attack configurations found during search :\"+str(count))\n",
        "print()\n",
        "\n",
        "for i in range(1,count+1):\n",
        "  print(\"Configuration : \"+str(i))\n",
        "  print(safe_config[i-1])\n",
        "  display(safe_config[i-1])\n",
        "  print()"
      ],
      "metadata": {
        "colab": {
          "base_uri": "https://localhost:8080/"
        },
        "id": "rOy2k39WpPXG",
        "outputId": "468010f3-2181-4313-91a9-fd53ab4896ae"
      },
      "execution_count": null,
      "outputs": [
        {
          "output_type": "stream",
          "name": "stdout",
          "text": [
            "Total number of No attack configurations found during search :10\n",
            "\n",
            "Configuration : 1\n",
            "[4, 7, 5, 3, 1, 6, 8, 2]\n",
            "\n",
            "   1 2 3 4 5 6 7 8\n",
            " __________________\n",
            "0| _ _ _ _ 1 _ _ _ \n",
            "1| _ _ _ _ _ _ _ 1 \n",
            "2| _ _ _ _ _ 1 _ _ \n",
            "3| _ _ _ 1 _ _ _ _ \n",
            "4| _ 1 _ _ _ _ _ _ \n",
            "5| _ _ _ _ _ _ 1 _ \n",
            "6| _ _ _ _ _ _ _ _ \n",
            "7| _ _ 1 _ _ _ _ _ \n",
            "\n",
            "Configuration : 2\n",
            "[5, 8, 4, 1, 3, 6, 2, 7]\n",
            "\n",
            "   1 2 3 4 5 6 7 8\n",
            " __________________\n",
            "0| _ _ _ _ _ 1 _ _ \n",
            "1| _ _ _ _ _ _ _ _ \n",
            "2| _ _ _ _ 1 _ _ _ \n",
            "3| _ 1 _ _ _ _ _ _ \n",
            "4| _ _ _ 1 _ _ _ _ \n",
            "5| _ _ _ _ _ _ 1 _ \n",
            "6| _ _ 1 _ _ _ _ _ \n",
            "7| _ _ _ _ _ _ _ 1 \n",
            "\n",
            "Configuration : 3\n",
            "[3, 6, 2, 5, 8, 1, 7, 4]\n",
            "\n",
            "   1 2 3 4 5 6 7 8\n",
            " __________________\n",
            "0| _ _ _ 1 _ _ _ _ \n",
            "1| _ _ _ _ _ _ 1 _ \n",
            "2| _ _ 1 _ _ _ _ _ \n",
            "3| _ _ _ _ _ 1 _ _ \n",
            "4| _ _ _ _ _ _ _ _ \n",
            "5| _ 1 _ _ _ _ _ _ \n",
            "6| _ _ _ _ _ _ _ 1 \n",
            "7| _ _ _ _ 1 _ _ _ \n",
            "\n",
            "Configuration : 4\n",
            "[3, 6, 2, 7, 1, 4, 8, 5]\n",
            "\n",
            "   1 2 3 4 5 6 7 8\n",
            " __________________\n",
            "0| _ _ _ 1 _ _ _ _ \n",
            "1| _ _ _ _ _ _ 1 _ \n",
            "2| _ _ 1 _ _ _ _ _ \n",
            "3| _ _ _ _ _ _ _ 1 \n",
            "4| _ 1 _ _ _ _ _ _ \n",
            "5| _ _ _ _ 1 _ _ _ \n",
            "6| _ _ _ _ _ _ _ _ \n",
            "7| _ _ _ _ _ 1 _ _ \n",
            "\n",
            "Configuration : 5\n",
            "[5, 1, 8, 4, 2, 7, 3, 6]\n",
            "\n",
            "   1 2 3 4 5 6 7 8\n",
            " __________________\n",
            "0| _ _ _ _ _ 1 _ _ \n",
            "1| _ 1 _ _ _ _ _ _ \n",
            "2| _ _ _ _ _ _ _ _ \n",
            "3| _ _ _ _ 1 _ _ _ \n",
            "4| _ _ 1 _ _ _ _ _ \n",
            "5| _ _ _ _ _ _ _ 1 \n",
            "6| _ _ _ 1 _ _ _ _ \n",
            "7| _ _ _ _ _ _ 1 _ \n",
            "\n",
            "Configuration : 6\n",
            "[6, 3, 5, 8, 1, 4, 2, 7]\n",
            "\n",
            "   1 2 3 4 5 6 7 8\n",
            " __________________\n",
            "0| _ _ _ _ _ _ 1 _ \n",
            "1| _ _ _ 1 _ _ _ _ \n",
            "2| _ _ _ _ _ 1 _ _ \n",
            "3| _ _ _ _ _ _ _ _ \n",
            "4| _ 1 _ _ _ _ _ _ \n",
            "5| _ _ _ _ 1 _ _ _ \n",
            "6| _ _ 1 _ _ _ _ _ \n",
            "7| _ _ _ _ _ _ _ 1 \n",
            "\n",
            "Configuration : 7\n",
            "[3, 5, 8, 4, 1, 7, 2, 6]\n",
            "\n",
            "   1 2 3 4 5 6 7 8\n",
            " __________________\n",
            "0| _ _ _ 1 _ _ _ _ \n",
            "1| _ _ _ _ _ 1 _ _ \n",
            "2| _ _ _ _ _ _ _ _ \n",
            "3| _ _ _ _ 1 _ _ _ \n",
            "4| _ 1 _ _ _ _ _ _ \n",
            "5| _ _ _ _ _ _ _ 1 \n",
            "6| _ _ 1 _ _ _ _ _ \n",
            "7| _ _ _ _ _ _ 1 _ \n",
            "\n",
            "Configuration : 8\n",
            "[5, 3, 1, 6, 8, 2, 4, 7]\n",
            "\n",
            "   1 2 3 4 5 6 7 8\n",
            " __________________\n",
            "0| _ _ _ _ _ 1 _ _ \n",
            "1| _ _ _ 1 _ _ _ _ \n",
            "2| _ 1 _ _ _ _ _ _ \n",
            "3| _ _ _ _ _ _ 1 _ \n",
            "4| _ _ _ _ _ _ _ _ \n",
            "5| _ _ 1 _ _ _ _ _ \n",
            "6| _ _ _ _ 1 _ _ _ \n",
            "7| _ _ _ _ _ _ _ 1 \n",
            "\n",
            "Configuration : 9\n",
            "[8, 4, 1, 3, 6, 2, 7, 5]\n",
            "\n",
            "   1 2 3 4 5 6 7 8\n",
            " __________________\n",
            "0| _ _ _ _ _ _ _ _ \n",
            "1| _ _ _ _ 1 _ _ _ \n",
            "2| _ 1 _ _ _ _ _ _ \n",
            "3| _ _ _ 1 _ _ _ _ \n",
            "4| _ _ _ _ _ _ 1 _ \n",
            "5| _ _ 1 _ _ _ _ _ \n",
            "6| _ _ _ _ _ _ _ 1 \n",
            "7| _ _ _ _ _ 1 _ _ \n",
            "\n",
            "Configuration : 10\n",
            "[7, 3, 8, 2, 5, 1, 6, 4]\n",
            "\n",
            "   1 2 3 4 5 6 7 8\n",
            " __________________\n",
            "0| _ _ _ _ _ _ _ 1 \n",
            "1| _ _ _ 1 _ _ _ _ \n",
            "2| _ _ _ _ _ _ _ _ \n",
            "3| _ _ 1 _ _ _ _ _ \n",
            "4| _ _ _ _ _ 1 _ _ \n",
            "5| _ 1 _ _ _ _ _ _ \n",
            "6| _ _ _ _ _ _ 1 _ \n",
            "7| _ _ _ _ 1 _ _ _ \n",
            "\n"
          ]
        }
      ]
    }
  ]
}