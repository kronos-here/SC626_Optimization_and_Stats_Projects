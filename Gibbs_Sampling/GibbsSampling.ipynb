{
  "nbformat": 4,
  "nbformat_minor": 0,
  "metadata": {
    "colab": {
      "provenance": []
    },
    "kernelspec": {
      "name": "python3",
      "display_name": "Python 3"
    },
    "language_info": {
      "name": "python"
    }
  },
  "cells": [
    {
      "cell_type": "markdown",
      "source": [
        "# We wish to sample points from a 2D Gaussian distribution N (µ, Σ) by using Gibbs sampling method to obtain 10^4 samples"
      ],
      "metadata": {
        "id": "AtHOmH9gCJTr"
      }
    },
    {
      "cell_type": "markdown",
      "source": [
        "# First we import all the packages we need."
      ],
      "metadata": {
        "id": "fc566S5PA5Mc"
      }
    },
    {
      "cell_type": "code",
      "execution_count": null,
      "metadata": {
        "id": "LLsXAQSoA1xw"
      },
      "outputs": [],
      "source": [
        "import numpy as np\n",
        "import pandas as pd"
      ]
    },
    {
      "cell_type": "markdown",
      "source": [
        "# Generating samples"
      ],
      "metadata": {
        "id": "1CAYUyNqBYv2"
      }
    },
    {
      "cell_type": "code",
      "source": [
        "mean = np.array([0,0])\n",
        "cov_mat = np.array([[10,4],[4,6]])\n",
        "print (\"Mean Vector\")\n",
        "print (mean)\n",
        "print (\"Covariance Matrix\")\n",
        "print (cov_mat)"
      ],
      "metadata": {
        "colab": {
          "base_uri": "https://localhost:8080/"
        },
        "id": "ySFQeR7dTdJ4",
        "outputId": "9c076896-c0f8-4cfe-844e-7eed1ec03734"
      },
      "execution_count": null,
      "outputs": [
        {
          "output_type": "stream",
          "name": "stdout",
          "text": [
            "Mean Vector\n",
            "[0 0]\n",
            "Covariance Matrix\n",
            "[[10  4]\n",
            " [ 4  6]]\n"
          ]
        }
      ]
    },
    {
      "cell_type": "code",
      "source": [
        "# Taking the origin as the initial point\n",
        "init_point = [0,0]\n",
        "sample_size = 10000\n",
        "\n",
        "#THe points are stored in this list of vectors\n",
        "samples = np.empty([sample_size + 1, 2])\n",
        "samples[0] = init_point\n",
        "\n",
        "# Since we will be usig point variable lets store the initial point in that variable\n",
        "point = np.copy(init_point)"
      ],
      "metadata": {
        "id": "bsG_riXWBjO9"
      },
      "execution_count": null,
      "outputs": []
    },
    {
      "cell_type": "code",
      "source": [
        "print (samples.shape)"
      ],
      "metadata": {
        "colab": {
          "base_uri": "https://localhost:8080/"
        },
        "id": "gLRxaeyOVyeQ",
        "outputId": "139b969e-1c69-4423-9df0-fbd754f60177"
      },
      "execution_count": null,
      "outputs": [
        {
          "output_type": "stream",
          "name": "stdout",
          "text": [
            "(10001, 2)\n"
          ]
        }
      ]
    },
    {
      "cell_type": "markdown",
      "source": [
        "![Formula 2.png](data:image/png;base64,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)\n",
        "\n",
        "![Formula 1.png](data:image/png;base64,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)"
      ],
      "metadata": {
        "id": "Ynx8qJCJWPrL"
      }
    },
    {
      "cell_type": "code",
      "source": [
        "for i in range(sample_size):\n",
        "\n",
        "  # p(x_0|x_1)   -->   p(x'_0|x_1)\n",
        "  a = cov_mat[0, 0]\n",
        "  b = cov_mat[0, 1]\n",
        "  c = cov_mat[1, 1]\n",
        "\n",
        "  mu = mean[0] + (b * (point[1] - mean[1]))/c\n",
        "  sigma = np.sqrt(a-(b**2)/c)\n",
        "  new_x = np.copy(point)\n",
        "  new_x[0] = sigma*np.random.randn() + mu\n",
        "\n",
        "  point = new_x\n",
        "\n",
        "  # p(x_1|x'_0)  -->   p(x'_1|x'_0)\n",
        "  a = cov_mat[1, 1]\n",
        "  b = cov_mat[1, 0]\n",
        "  c = cov_mat[0, 0]\n",
        "\n",
        "  mu = mean[1] + (b * (point[0] - mean[0]))/c\n",
        "  sigma = np.sqrt(a-(b**2)/c)\n",
        "  new_x = np.copy(point)\n",
        "  new_x[1] = sigma*np.random.randn() + mu\n",
        "\n",
        "  point = new_x\n",
        "\n",
        "\n",
        "  samples[i+1] = point"
      ],
      "metadata": {
        "id": "sex20tugReDg"
      },
      "execution_count": null,
      "outputs": []
    },
    {
      "cell_type": "markdown",
      "source": [
        "#Checking Mean and Covariance Matrix."
      ],
      "metadata": {
        "id": "q9V7-DE5BkA3"
      }
    },
    {
      "cell_type": "code",
      "source": [
        "print (\"The mean for 10^4 samples\")\n",
        "print (np.mean(samples,axis=0))\n",
        "\n",
        "print ()\n",
        "df = pd.DataFrame(samples, columns=['x_0','x_1'])\n",
        "print (\"The covarince martix for 10^4 samples\")\n",
        "cov_matrix = df.cov()\n",
        "print(cov_matrix)\n"
      ],
      "metadata": {
        "colab": {
          "base_uri": "https://localhost:8080/"
        },
        "id": "nweDHbNoBo3I",
        "outputId": "67ba9a8a-9e88-4d0d-d9a0-c011422cbc62"
      },
      "execution_count": null,
      "outputs": [
        {
          "output_type": "stream",
          "name": "stdout",
          "text": [
            "The mean for 10^4 samples\n",
            "[-0.0202398  -0.01529985]\n",
            "\n",
            "The covarince martix for 10^4 samples\n",
            "         x_0       x_1\n",
            "x_0  7.03529  2.349290\n",
            "x_1  2.34929  3.938846\n"
          ]
        }
      ]
    },
    {
      "cell_type": "markdown",
      "source": [
        "# Results on varying the sample size"
      ],
      "metadata": {
        "id": "t11eWPZ4Bqm2"
      }
    },
    {
      "cell_type": "markdown",
      "source": [
        "# 10^3 Sample Results"
      ],
      "metadata": {
        "id": "S_ootqLSB80w"
      }
    },
    {
      "cell_type": "code",
      "source": [
        "init_point = [0,0]\n",
        "sample_size = 1000\n",
        "\n",
        "#THe points are stored in this list of vectors\n",
        "samples = np.empty([sample_size + 1, 2])\n",
        "samples[0] = init_point\n",
        "\n",
        "# Since we will be usig point variable lets store the initial point in that variable\n",
        "point = np.copy(init_point)\n",
        "\n",
        "for i in range(sample_size):\n",
        "\n",
        "  # p(x_0|x_1)   -->   p(x'_0|x_1)\n",
        "  a = cov_mat[0, 0]\n",
        "  b = cov_mat[0, 1]\n",
        "  c = cov_mat[1, 1]\n",
        "\n",
        "  mu = mean[0] + (b * (point[1] - mean[1]))/c\n",
        "  sigma = np.sqrt(a-(b**2)/c)\n",
        "  new_x = np.copy(point)\n",
        "  new_x[0] = sigma*np.random.randn() + mu\n",
        "\n",
        "  point = new_x\n",
        "\n",
        "  # p(x_1|x'_0)  -->   p(x'_1|x'_0)\n",
        "  a = cov_mat[1, 1]\n",
        "  b = cov_mat[1, 0]\n",
        "  c = cov_mat[0, 0]\n",
        "\n",
        "  mu = mean[1] + (b * (point[0] - mean[0]))/c\n",
        "  sigma = np.sqrt(a-(b**2)/c)\n",
        "  new_x = np.copy(point)\n",
        "  new_x[1] = sigma*np.random.randn() + mu\n",
        "\n",
        "  point = new_x\n",
        "\n",
        "\n",
        "  samples[i+1] = point\n",
        "\n",
        "print (\"The mean for 10^3 samples\")\n",
        "print (np.mean(samples,axis=0))\n",
        "\n",
        "print ()\n",
        "df = pd.DataFrame(samples, columns=['x_0','x_1'])\n",
        "print (\"The covarince martix for 10^3 samples\")\n",
        "cov_matrix = df.cov()\n",
        "print(cov_matrix)\n"
      ],
      "metadata": {
        "colab": {
          "base_uri": "https://localhost:8080/"
        },
        "id": "UP9pg_fbCBN9",
        "outputId": "811d8a6d-a8c4-42fe-e7db-8812a292cbbb"
      },
      "execution_count": null,
      "outputs": [
        {
          "output_type": "stream",
          "name": "stdout",
          "text": [
            "The mean for 10^3 samples\n",
            "[-0.15584416 -0.14685315]\n",
            "\n",
            "The covarince martix for 10^3 samples\n",
            "          x_0       x_1\n",
            "x_0  6.735688  2.012091\n",
            "x_1  2.012091  3.571413\n"
          ]
        }
      ]
    },
    {
      "cell_type": "markdown",
      "source": [
        "# 10^5 Sample Results"
      ],
      "metadata": {
        "id": "u5sO9JtxCBmN"
      }
    },
    {
      "cell_type": "code",
      "source": [
        "init_point = [0,0]\n",
        "sample_size = 100000\n",
        "\n",
        "#THe points are stored in this list of vectors\n",
        "samples = np.empty([sample_size + 1, 2])\n",
        "samples[0] = init_point\n",
        "\n",
        "# Since we will be usig point variable lets store the initial point in that variable\n",
        "point = np.copy(init_point)\n",
        "\n",
        "for i in range(sample_size):\n",
        "\n",
        "  # p(x_0|x_1)   -->   p(x'_0|x_1)\n",
        "  a = cov_mat[0, 0]\n",
        "  b = cov_mat[0, 1]\n",
        "  c = cov_mat[1, 1]\n",
        "\n",
        "  mu = mean[0] + (b * (point[1] - mean[1]))/c\n",
        "  sigma = np.sqrt(a-(b**2)/c)\n",
        "  new_x = np.copy(point)\n",
        "  new_x[0] = sigma*np.random.randn() + mu\n",
        "\n",
        "  point = new_x\n",
        "\n",
        "  # p(x_1|x'_0)  -->   p(x'_1|x'_0)\n",
        "  a = cov_mat[1, 1]\n",
        "  b = cov_mat[1, 0]\n",
        "  c = cov_mat[0, 0]\n",
        "\n",
        "  mu = mean[1] + (b * (point[0] - mean[0]))/c\n",
        "  sigma = np.sqrt(a-(b**2)/c)\n",
        "  new_x = np.copy(point)\n",
        "  new_x[1] = sigma*np.random.randn() + mu\n",
        "\n",
        "  point = new_x\n",
        "\n",
        "\n",
        "  samples[i+1] = point\n",
        "\n",
        "print (\"The mean for 10^5 samples\")\n",
        "print (np.mean(samples,axis=0))\n",
        "\n",
        "print ()\n",
        "df = pd.DataFrame(samples, columns=['x_0','x_1'])\n",
        "print (\"The covarince martix for 10^5 samples\")\n",
        "cov_matrix = df.cov()\n",
        "print(cov_matrix)\n"
      ],
      "metadata": {
        "colab": {
          "base_uri": "https://localhost:8080/"
        },
        "id": "XNFXmkIFCGJb",
        "outputId": "7f16bd6d-c7ac-4f3f-e2dc-771a6dba63af"
      },
      "execution_count": null,
      "outputs": [
        {
          "output_type": "stream",
          "name": "stdout",
          "text": [
            "The mean for 10^5 samples\n",
            "[-0.01092989 -0.00515995]\n",
            "\n",
            "The covarince martix for 10^5 samples\n",
            "          x_0       x_1\n",
            "x_0  6.925791  2.302724\n",
            "x_1  2.302724  3.920153\n"
          ]
        }
      ]
    },
    {
      "cell_type": "markdown",
      "source": [
        "# Conclusion\n",
        "\n",
        "Thus we can see as the samples incease the error also decereases. That is its near to the target given."
      ],
      "metadata": {
        "id": "uRtm6VKGhp7o"
      }
    }
  ]
}